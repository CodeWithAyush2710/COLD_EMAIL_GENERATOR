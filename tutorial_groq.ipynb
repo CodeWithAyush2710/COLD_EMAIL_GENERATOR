{
 "cells": [
  {
   "cell_type": "code",
   "execution_count": 2,
   "id": "e0b6c7b0-119f-490f-a3be-e18c6cff80c0",
   "metadata": {},
   "outputs": [
    {
     "name": "stdout",
     "output_type": "stream",
     "text": [
      "The second person to land on the moon was Edwin \"Buzz\" Aldrin. He stepped onto the lunar surface on July 20, 1969, during the Apollo 11 mission, following Neil Armstrong, who was the first person to set foot on the moon.\n"
     ]
    }
   ],
   "source": [
    "from langchain_groq import ChatGroq\n",
    "\n",
    "llm = ChatGroq(\n",
    "    temperature=0,\n",
    "    groq_api_key='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',\n",
    "    model_name=\"llama-3.1-70b-versatile\",\n",
    ")\n",
    "response = llm.invoke(\"The second person to land on moon was ...\")\n",
    "print(response.content)"
   ]
  },
  {
   "cell_type": "code",
   "execution_count": null,
   "id": "38f46914-f954-4c3d-8368-a174d30c7c7b",
   "metadata": {},
   "outputs": [],
   "source": []
  }
 ],
 "metadata": {
  "kernelspec": {
   "display_name": "ayushenv",
   "language": "python",
   "name": "python3"
  },
  "language_info": {
   "codemirror_mode": {
    "name": "ipython",
    "version": 3
   },
   "file_extension": ".py",
   "mimetype": "text/x-python",
   "name": "python",
   "nbconvert_exporter": "python",
   "pygments_lexer": "ipython3",
   "version": "3.12.7"
  }
 },
 "nbformat": 4,
 "nbformat_minor": 5
}
